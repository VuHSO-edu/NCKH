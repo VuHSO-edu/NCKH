{
 "cells": [
  {
   "cell_type": "code",
   "id": "initial_id",
   "metadata": {
    "collapsed": true,
    "ExecuteTime": {
     "end_time": "2024-10-17T03:12:26.194800Z",
     "start_time": "2024-10-17T03:12:23.765984Z"
    }
   },
   "source": [
    "import yfinance as yf\n",
    "\n",
    "stock_ls = ['AAPL', 'GOOGL', 'MSFT', 'AMZN', 'TSLA']\n",
    "\n",
    "data = yf.download(stock_ls, start=\"2024-01-01\", end=\"2024-10-01\")[['Adj Close']]\n",
    "\n"
   ],
   "outputs": [
    {
     "name": "stderr",
     "output_type": "stream",
     "text": [
      "[*********************100%***********************]  5 of 5 completed\n"
     ]
    }
   ],
   "execution_count": 2
  },
  {
   "metadata": {
    "ExecuteTime": {
     "end_time": "2024-10-23T12:13:00.610935Z",
     "start_time": "2024-10-23T12:13:00.591831Z"
    }
   },
   "cell_type": "code",
   "source": [
    "import vnstock3 as vs3\n",
    "import pandas as pd\n",
    "\n",
    "# Các mã cổ phiếu cần lấy dữ liệu\n",
    "tickers = ['VIC', 'VNM', 'HPG', 'FPT']\n",
    "start_date = '2023-01-01'\n",
    "end_date = '2024-01-01'\n",
    "\n",
    "# Tạo dataframe lưu dữ liệu lịch sử giá đóng cửa của các cổ phiếu\n",
    "data = pd.DataFrame()\n",
    "\n",
    "for ticker in tickers:\n",
    "    stock_data = vs3.stock_historical_data(ticker, start_date, end_date)\n",
    "    stock_data['ticker'] = ticker\n",
    "    stock_data = stock_data[['date', 'close', 'ticker']]\n",
    "    stock_data = stock_data.rename(columns={'close': f'{ticker}_Close'})\n",
    "    \n",
    "    if data.empty:\n",
    "        data = stock_data\n",
    "    else:\n",
    "        data = pd.merge(data, stock_data, on='date')\n",
    "\n",
    "# Hiển thị dữ liệu đã thu thập\n",
    "print(data.head())"
   ],
   "id": "11c8abcb518743a0",
   "outputs": [
    {
     "ename": "AttributeError",
     "evalue": "module 'vnstock3' has no attribute 'stock_historical_data'",
     "output_type": "error",
     "traceback": [
      "\u001B[1;31m---------------------------------------------------------------------------\u001B[0m",
      "\u001B[1;31mAttributeError\u001B[0m                            Traceback (most recent call last)",
      "Cell \u001B[1;32mIn[8], line 13\u001B[0m\n\u001B[0;32m     10\u001B[0m data \u001B[38;5;241m=\u001B[39m pd\u001B[38;5;241m.\u001B[39mDataFrame()\n\u001B[0;32m     12\u001B[0m \u001B[38;5;28;01mfor\u001B[39;00m ticker \u001B[38;5;129;01min\u001B[39;00m tickers:\n\u001B[1;32m---> 13\u001B[0m     stock_data \u001B[38;5;241m=\u001B[39m \u001B[43mvs3\u001B[49m\u001B[38;5;241;43m.\u001B[39;49m\u001B[43mstock_historical_data\u001B[49m(ticker, start_date, end_date)\n\u001B[0;32m     14\u001B[0m     stock_data[\u001B[38;5;124m'\u001B[39m\u001B[38;5;124mticker\u001B[39m\u001B[38;5;124m'\u001B[39m] \u001B[38;5;241m=\u001B[39m ticker\n\u001B[0;32m     15\u001B[0m     stock_data \u001B[38;5;241m=\u001B[39m stock_data[[\u001B[38;5;124m'\u001B[39m\u001B[38;5;124mdate\u001B[39m\u001B[38;5;124m'\u001B[39m, \u001B[38;5;124m'\u001B[39m\u001B[38;5;124mclose\u001B[39m\u001B[38;5;124m'\u001B[39m, \u001B[38;5;124m'\u001B[39m\u001B[38;5;124mticker\u001B[39m\u001B[38;5;124m'\u001B[39m]]\n",
      "\u001B[1;31mAttributeError\u001B[0m: module 'vnstock3' has no attribute 'stock_historical_data'"
     ]
    }
   ],
   "execution_count": 8
  },
  {
   "metadata": {
    "ExecuteTime": {
     "end_time": "2024-10-17T03:12:32.958821Z",
     "start_time": "2024-10-17T03:12:32.929693Z"
    }
   },
   "cell_type": "code",
   "source": [
    "import numpy as np\n",
    "\n",
    "\n",
    "# Tính lợi suất hằng ngày\n",
    "returns = data.pct_change().dropna()\n",
    "\n",
    "# Tính lợi suất trung bình hàng năm\n",
    "mean_returns = returns.mean() * 252\n",
    "\n",
    "# Tính ma trận hiệp phương sai\n",
    "cov_matrix = returns.cov() * 252\n",
    "cov_matrix"
   ],
   "id": "6dfd35a62ea9b327",
   "outputs": [
    {
     "data": {
      "text/plain": [
       "Price            Adj Close                                        \n",
       "Ticker                AAPL      AMZN     GOOGL      MSFT      TSLA\n",
       "Price     Ticker                                                  \n",
       "Adj Close AAPL    0.056901  0.021644  0.025839  0.020763  0.055799\n",
       "          AMZN    0.021644  0.076702  0.040605  0.036515  0.050414\n",
       "          GOOGL   0.025839  0.040605  0.077008  0.033408  0.032523\n",
       "          MSFT    0.020763  0.036515  0.033408  0.038034  0.034966\n",
       "          TSLA    0.055799  0.050414  0.032523  0.034966  0.333577"
      ],
      "text/html": [
       "<div>\n",
       "<style scoped>\n",
       "    .dataframe tbody tr th:only-of-type {\n",
       "        vertical-align: middle;\n",
       "    }\n",
       "\n",
       "    .dataframe tbody tr th {\n",
       "        vertical-align: top;\n",
       "    }\n",
       "\n",
       "    .dataframe thead tr th {\n",
       "        text-align: left;\n",
       "    }\n",
       "\n",
       "    .dataframe thead tr:last-of-type th {\n",
       "        text-align: right;\n",
       "    }\n",
       "</style>\n",
       "<table border=\"1\" class=\"dataframe\">\n",
       "  <thead>\n",
       "    <tr>\n",
       "      <th></th>\n",
       "      <th>Price</th>\n",
       "      <th colspan=\"5\" halign=\"left\">Adj Close</th>\n",
       "    </tr>\n",
       "    <tr>\n",
       "      <th></th>\n",
       "      <th>Ticker</th>\n",
       "      <th>AAPL</th>\n",
       "      <th>AMZN</th>\n",
       "      <th>GOOGL</th>\n",
       "      <th>MSFT</th>\n",
       "      <th>TSLA</th>\n",
       "    </tr>\n",
       "    <tr>\n",
       "      <th>Price</th>\n",
       "      <th>Ticker</th>\n",
       "      <th></th>\n",
       "      <th></th>\n",
       "      <th></th>\n",
       "      <th></th>\n",
       "      <th></th>\n",
       "    </tr>\n",
       "  </thead>\n",
       "  <tbody>\n",
       "    <tr>\n",
       "      <th rowspan=\"5\" valign=\"top\">Adj Close</th>\n",
       "      <th>AAPL</th>\n",
       "      <td>0.056901</td>\n",
       "      <td>0.021644</td>\n",
       "      <td>0.025839</td>\n",
       "      <td>0.020763</td>\n",
       "      <td>0.055799</td>\n",
       "    </tr>\n",
       "    <tr>\n",
       "      <th>AMZN</th>\n",
       "      <td>0.021644</td>\n",
       "      <td>0.076702</td>\n",
       "      <td>0.040605</td>\n",
       "      <td>0.036515</td>\n",
       "      <td>0.050414</td>\n",
       "    </tr>\n",
       "    <tr>\n",
       "      <th>GOOGL</th>\n",
       "      <td>0.025839</td>\n",
       "      <td>0.040605</td>\n",
       "      <td>0.077008</td>\n",
       "      <td>0.033408</td>\n",
       "      <td>0.032523</td>\n",
       "    </tr>\n",
       "    <tr>\n",
       "      <th>MSFT</th>\n",
       "      <td>0.020763</td>\n",
       "      <td>0.036515</td>\n",
       "      <td>0.033408</td>\n",
       "      <td>0.038034</td>\n",
       "      <td>0.034966</td>\n",
       "    </tr>\n",
       "    <tr>\n",
       "      <th>TSLA</th>\n",
       "      <td>0.055799</td>\n",
       "      <td>0.050414</td>\n",
       "      <td>0.032523</td>\n",
       "      <td>0.034966</td>\n",
       "      <td>0.333577</td>\n",
       "    </tr>\n",
       "  </tbody>\n",
       "</table>\n",
       "</div>"
      ]
     },
     "execution_count": 3,
     "metadata": {},
     "output_type": "execute_result"
    }
   ],
   "execution_count": 3
  },
  {
   "metadata": {
    "ExecuteTime": {
     "end_time": "2024-10-09T13:32:43.277483Z",
     "start_time": "2024-10-09T13:32:43.270613Z"
    }
   },
   "cell_type": "code",
   "source": [
    "from scipy.optimize import minimize\n",
    "# Mô hình Markowitz\n",
    "\n",
    "def portfolio_annualized_performance(weights, mean_returns, cov_matrix):\n",
    "    returns = np.sum(mean_returns * weights)\n",
    "    std = np.sqrt(np.dot(weights.T, np.dot(cov_matrix, weights)))\n",
    "    return std, returns\n",
    "\n",
    "def neg_sharpe_ratio(weights, mean_returns, cov_matrix, risk_free_rate):\n",
    "    p_var, p_ret = portfolio_annualized_performance(weights, mean_returns, cov_matrix)\n",
    "    return -(p_ret - risk_free_rate) / p_var\n",
    "\n",
    "def optimize_portfolio(mean_returns, cov_matrix, risk_free_rate):\n",
    "    num_assets = len(mean_returns)\n",
    "    args = (mean_returns, cov_matrix, risk_free_rate)\n",
    "    constraints = ({'type': 'eq', 'fun': lambda weights: np.sum(weights) - 1})\n",
    "    bounds = tuple((0, 1) for asset in range(num_assets))\n",
    "    result = minimize(neg_sharpe_ratio, num_assets * [1. / num_assets,], args=args,\n",
    "                      method='SLSQP', bounds=bounds, constraints=constraints)\n",
    "    return result\n"
   ],
   "id": "9b89bf26cda4ad04",
   "outputs": [],
   "execution_count": 11
  },
  {
   "metadata": {
    "ExecuteTime": {
     "end_time": "2024-10-09T13:32:46.145922Z",
     "start_time": "2024-10-09T13:32:46.123102Z"
    }
   },
   "cell_type": "code",
   "source": [
    "# Hiển thị kết quả\n",
    "\n",
    "risk_free_rate = 0.01  # Giả sử lãi suất phi rủi ro là 1%\n",
    "optimal_result = optimize_portfolio(mean_returns, cov_matrix, risk_free_rate)\n",
    "\n",
    "# Hiển thị kết quả tối ưu\n",
    "optimal_weights = optimal_result.x\n",
    "std, ret = portfolio_annualized_performance(optimal_weights, mean_returns, cov_matrix)\n",
    "\n",
    "print(f\"Lợi suất kỳ vọng: {ret:.2f}, Độ lệch chuẩn: {std:.2f}\")\n",
    "print(\"Tỷ trọng phân bổ tài sản tối ưu:\", optimal_weights)"
   ],
   "id": "bb27ea8bbc9955c3",
   "outputs": [
    {
     "name": "stdout",
     "output_type": "stream",
     "text": [
      "Lợi suất kỳ vọng: 0.33, Độ lệch chuẩn: 0.20\n",
      "Tỷ trọng phân bổ tài sản tối ưu: [0.56155932 0.30334247 0.088601   0.04649721 0.        ]\n"
     ]
    }
   ],
   "execution_count": 12
  },
  {
   "metadata": {
    "ExecuteTime": {
     "end_time": "2024-10-09T13:33:19.349690Z",
     "start_time": "2024-10-09T13:33:19.220156Z"
    }
   },
   "cell_type": "code",
   "source": [
    "# Biểu đồ\n",
    "import matplotlib.pyplot as plt\n",
    "\n",
    "\n",
    "def plot_efficient_frontier(mean_returns, cov_matrix, risk_free_rate):\n",
    "    results = np.zeros((3, len(mean_returns)))\n",
    "    \n",
    "    for i, weight in enumerate(np.linspace(0, 1, len(mean_returns))):\n",
    "        weight_comb = np.ones(len(mean_returns)) * weight\n",
    "        std, ret = portfolio_annualized_performance(weight_comb, mean_returns, cov_matrix)\n",
    "        results[0,i] = std\n",
    "        results[1,i] = ret\n",
    "    \n",
    "    plt.plot(results[0,:], results[1,:], marker='o')\n",
    "    plt.xlabel('Rủi ro (Độ lệch chuẩn)')\n",
    "    plt.ylabel('Lợi suất kỳ vọng')\n",
    "    plt.title('Đường biên hiệu quả')\n",
    "    plt.show()\n",
    "\n",
    "plot_efficient_frontier(mean_returns, cov_matrix, risk_free_rate)"
   ],
   "id": "b13d94eff5366222",
   "outputs": [
    {
     "data": {
      "text/plain": [
       "<Figure size 640x480 with 1 Axes>"
      ],
      "image/png": "[encoded data removed]"
     },
     "metadata": {},
     "output_type": "display_data"
    }
   ],
   "execution_count": 13
  },
  {
   "metadata": {
    "ExecuteTime": {
     "end_time": "2024-10-23T13:46:31.576075Z",
     "start_time": "2024-10-23T13:46:31.507862Z"
    }
   },
   "cell_type": "code",
   "source": [
    "from vnstock import stock_historical_data\n",
    "import pandas as pd\n",
    "\n",
    "# Lấy dữ liệu lịch sử giá cổ phiếu VNM từ 2020-01-01 đến 2021-01-01\n",
    "data = stock_historical_data('VNM', '2020-01-01', '2021-01-01')\n",
    "\n",
    "# Kiểm tra cấu trúc của DataFrame\n",
    "print(data.head())\n",
    "\n",
    "# Giả sử cột ngày có tên khác, ví dụ: 'Date'\n",
    "if 'Date' in data.columns:\n",
    "    data['Date'] = pd.to_datetime(data['Date'])\n",
    "    data.set_index('Date', inplace=True)\n",
    "else:\n",
    "    raise KeyError(\"The 'Date' column is missing from the data.\")\n",
    "\n",
    "# Tính lợi suất hằng ngày\n",
    "returns = data.pct_change().dropna()\n",
    "\n",
    "# Tính ma trận hiệp phương sai\n",
    "cov_matrix = returns.cov()\n",
    "print(cov_matrix)"
   ],
   "id": "5b7e9bc2ab1bf8ea",
   "outputs": [
    {
     "name": "stdout",
     "output_type": "stream",
     "text": [
      "         time   open   high    low  close  volume ticker\n",
      "0  2020-01-02  78060  78850  77720  78660  352700    VNM\n",
      "1  2020-01-03  78850  79380  78850  78920  625390    VNM\n",
      "2  2020-01-06  78720  78850  77920  78320  495910    VNM\n",
      "3  2020-01-07  78380  79240  78380  79050  459520    VNM\n",
      "4  2020-01-08  79050  79240  78380  79240  837710    VNM\n"
     ]
    },
    {
     "ename": "KeyError",
     "evalue": "\"The 'Date' column is missing from the data.\"",
     "output_type": "error",
     "traceback": [
      "\u001B[1;31m---------------------------------------------------------------------------\u001B[0m",
      "\u001B[1;31mKeyError\u001B[0m                                  Traceback (most recent call last)",
      "Cell \u001B[1;32mIn[7], line 15\u001B[0m\n\u001B[0;32m     13\u001B[0m     data\u001B[38;5;241m.\u001B[39mset_index(\u001B[38;5;124m'\u001B[39m\u001B[38;5;124mDate\u001B[39m\u001B[38;5;124m'\u001B[39m, inplace\u001B[38;5;241m=\u001B[39m\u001B[38;5;28;01mTrue\u001B[39;00m)\n\u001B[0;32m     14\u001B[0m \u001B[38;5;28;01melse\u001B[39;00m:\n\u001B[1;32m---> 15\u001B[0m     \u001B[38;5;28;01mraise\u001B[39;00m \u001B[38;5;167;01mKeyError\u001B[39;00m(\u001B[38;5;124m\"\u001B[39m\u001B[38;5;124mThe \u001B[39m\u001B[38;5;124m'\u001B[39m\u001B[38;5;124mDate\u001B[39m\u001B[38;5;124m'\u001B[39m\u001B[38;5;124m column is missing from the data.\u001B[39m\u001B[38;5;124m\"\u001B[39m)\n\u001B[0;32m     17\u001B[0m \u001B[38;5;66;03m# Tính lợi suất hằng ngày\u001B[39;00m\n\u001B[0;32m     18\u001B[0m returns \u001B[38;5;241m=\u001B[39m data\u001B[38;5;241m.\u001B[39mpct_change()\u001B[38;5;241m.\u001B[39mdropna()\n",
      "\u001B[1;31mKeyError\u001B[0m: \"The 'Date' column is missing from the data.\""
     ]
    }
   ],
   "execution_count": 7
  },
  {
   "metadata": {
    "ExecuteTime": {
     "end_time": "2024-10-24T01:46:50.981037Z",
     "start_time": "2024-10-24T01:46:50.785123Z"
    }
   },
   "cell_type": "code",
   "source": [
    "import vnstock\n",
    "import pandas as pd\n",
    "\n",
    "def lay_gia_dong_cua(ma_chung_khoan: str , start_date: str, end_date: str):\n",
    "    data = vnstock.stock_historical_data(ma_chung_khoan, start_date,end_date)\n",
    "    \n",
    "    gia_dong_cua = data[['time', 'close','ticker']]\n",
    "    return gia_dong_cua\n",
    "    \n",
    "ma_chung_khoan = 'VNM'\n",
    "start_date = '2020-01-01'\n",
    "end_date = '2021-01-01'\n",
    "gia_dong_cua_vnm = lay_gia_dong_cua(ma_chung_khoan, start_date, end_date)\n",
    "print(gia_dong_cua_vnm)"
   ],
   "id": "5ee38b08efea4e27",
   "outputs": [
    {
     "name": "stdout",
     "output_type": "stream",
     "text": [
      "           time  close ticker\n",
      "0    2020-01-02  78660    VNM\n",
      "1    2020-01-03  78920    VNM\n",
      "2    2020-01-06  78320    VNM\n",
      "3    2020-01-07  79050    VNM\n",
      "4    2020-01-08  79240    VNM\n",
      "..          ...    ...    ...\n",
      "247  2020-12-25  89760    VNM\n",
      "248  2020-12-28  89510    VNM\n",
      "249  2020-12-29  89930    VNM\n",
      "250  2020-12-30  89580    VNM\n",
      "251  2020-12-31  89580    VNM\n",
      "\n",
      "[252 rows x 3 columns]\n"
     ]
    }
   ],
   "execution_count": 11
  },
  {
   "metadata": {
    "ExecuteTime": {
     "end_time": "2024-10-24T01:48:29.846314Z",
     "start_time": "2024-10-24T01:48:29.556853Z"
    }
   },
   "cell_type": "code",
   "source": [
    "import vnstock\n",
    "import pandas as pd\n",
    "\n",
    "# Hàm lấy giá đóng cửa cho nhiều mã chứng khoán\n",
    "def lay_gia_dong_cua_nhieu_ma(danh_sach_ma: list, start_date: str, end_date: str):\n",
    "    # Danh sách để lưu trữ dữ liệu từ các mã chứng khoán\n",
    "    data_frames = []\n",
    "    \n",
    "    for ma_chung_khoan in danh_sach_ma:\n",
    "        # Lấy dữ liệu cho từng mã chứng khoán\n",
    "        data = vnstock.stock_historical_data(ma_chung_khoan, start_date, end_date)\n",
    "        \n",
    "        # Trích xuất cột thời gian ('time'), giá đóng cửa ('close') và mã chứng khoán ('ticker')\n",
    "        gia_dong_cua = data[['time', 'close', 'ticker']]\n",
    "        \n",
    "        # Thêm dữ liệu vào danh sách\n",
    "        data_frames.append(gia_dong_cua)\n",
    "    \n",
    "    # Kết hợp tất cả các DataFrame lại thành một DataFrame lớn\n",
    "    all_data = pd.concat(data_frames, ignore_index=True)\n",
    "    \n",
    "    return all_data\n",
    "\n",
    "# Thí dụ: lấy giá đóng cửa của nhiều mã chứng khoán từ ngày 2020-01-01 đến 2021-01-01\n",
    "danh_sach_ma = ['VNM', 'HPG', 'VCB']  # Danh sách các mã chứng khoán\n",
    "start_date = '2020-01-01'\n",
    "end_date = '2021-01-01'\n",
    "\n",
    "# Lấy toàn bộ dữ liệu giá đóng cửa cho nhiều mã\n",
    "gia_dong_cua_nhieu_ma = lay_gia_dong_cua_nhieu_ma(danh_sach_ma, start_date, end_date)\n",
    "\n",
    "# Hiển thị dữ liệu\n",
    "print(gia_dong_cua_nhieu_ma)\n"
   ],
   "id": "40b7c08b06fa3c5c",
   "outputs": [
    {
     "name": "stdout",
     "output_type": "stream",
     "text": [
      "           time  close ticker\n",
      "0    2020-01-02  78660    VNM\n",
      "1    2020-01-03  78920    VNM\n",
      "2    2020-01-06  78320    VNM\n",
      "3    2020-01-07  79050    VNM\n",
      "4    2020-01-08  79240    VNM\n",
      "..          ...    ...    ...\n",
      "751  2020-12-25  64010    VCB\n",
      "752  2020-12-28  64269    VCB\n",
      "753  2020-12-29  65060    VCB\n",
      "754  2020-12-30  64200    VCB\n",
      "755  2020-12-31  64200    VCB\n",
      "\n",
      "[756 rows x 3 columns]\n"
     ]
    }
   ],
   "execution_count": 12
  },
  {
   "metadata": {
    "ExecuteTime": {
     "end_time": "2024-10-24T02:11:06.700747Z",
     "start_time": "2024-10-24T02:11:05.785825Z"
    }
   },
   "cell_type": "code",
   "source": [
    "import vnstock\n",
    "import pandas as pd\n",
    "\n",
    "ticker_mapping = ['VIC', 'VNM', 'MSN', 'HPG', 'BID', 'VPB', 'VCB']\n",
    "\n",
    "def get_data_stock(ticker: str, start_date: str, end_date: str):\n",
    "    data = vnstock.stock_historical_data(ticker, start_date, end_date)\n",
    "    data_dict = data[['time','close','ticker']]\n",
    "    return data_dict\n",
    "\n",
    "for ticker in ticker_mapping:\n",
    "    data = get_data_stock(ticker, '2020-01-01', '2021-01-01')\n",
    "    print(data)\n"
   ],
   "id": "eb9bbe2f3e3aac1b",
   "outputs": [
    {
     "name": "stdout",
     "output_type": "stream",
     "text": [
      "           time   close ticker\n",
      "0    2020-01-02  102210    VIC\n",
      "1    2020-01-03  102477    VIC\n",
      "2    2020-01-06  101766    VIC\n",
      "3    2020-01-07  101943    VIC\n",
      "4    2020-01-08  101588    VIC\n",
      "..          ...     ...    ...\n",
      "247  2020-12-25   94122    VIC\n",
      "248  2020-12-28   94122    VIC\n",
      "249  2020-12-29   94655    VIC\n",
      "250  2020-12-30   96433    VIC\n",
      "251  2020-12-31   96166    VIC\n",
      "\n",
      "[252 rows x 3 columns]\n",
      "           time  close ticker\n",
      "0    2020-01-02  78660    VNM\n",
      "1    2020-01-03  78920    VNM\n",
      "2    2020-01-06  78320    VNM\n",
      "3    2020-01-07  79050    VNM\n",
      "4    2020-01-08  79240    VNM\n",
      "..          ...    ...    ...\n",
      "247  2020-12-25  89760    VNM\n",
      "248  2020-12-28  89510    VNM\n",
      "249  2020-12-29  89930    VNM\n",
      "250  2020-12-30  89580    VNM\n",
      "251  2020-12-31  89580    VNM\n",
      "\n",
      "[252 rows x 3 columns]\n",
      "           time  close ticker\n",
      "0    2020-01-02  46160    MSN\n",
      "1    2020-01-03  46570    MSN\n",
      "2    2020-01-06  45830    MSN\n",
      "3    2020-01-07  46000    MSN\n",
      "4    2020-01-08  45350    MSN\n",
      "..          ...    ...    ...\n",
      "247  2020-12-25  67610    MSN\n",
      "248  2020-12-28  67530    MSN\n",
      "249  2020-12-29  68190    MSN\n",
      "250  2020-12-30  68430    MSN\n",
      "251  2020-12-31  72850    MSN\n",
      "\n",
      "[252 rows x 3 columns]\n",
      "           time  close ticker\n",
      "0    2020-01-02   9940    HPG\n",
      "1    2020-01-03  10000    HPG\n",
      "2    2020-01-06   9940    HPG\n",
      "3    2020-01-07   9810    HPG\n",
      "4    2020-01-08   9710    HPG\n",
      "..          ...    ...    ...\n",
      "247  2020-12-25  20600    HPG\n",
      "248  2020-12-28  21000    HPG\n",
      "249  2020-12-29  21030    HPG\n",
      "250  2020-12-30  20670    HPG\n",
      "251  2020-12-31  20950    HPG\n",
      "\n",
      "[252 rows x 3 columns]\n",
      "           time  close ticker\n",
      "0    2020-01-02  32369    BID\n",
      "1    2020-01-03  32229    BID\n",
      "2    2020-01-06  31610    BID\n",
      "3    2020-01-07  32229    BID\n",
      "4    2020-01-08  32509    BID\n",
      "..          ...    ...    ...\n",
      "247  2020-12-25  32159    BID\n",
      "248  2020-12-28  32750    BID\n",
      "249  2020-12-29  33370    BID\n",
      "250  2020-12-30  33170    BID\n",
      "251  2020-12-31  33620    BID\n",
      "\n",
      "[252 rows x 3 columns]\n",
      "           time  close ticker\n",
      "0    2020-01-02   6880    VPB\n",
      "1    2020-01-03   6840    VPB\n",
      "2    2020-01-06   6670    VPB\n",
      "3    2020-01-07   6820    VPB\n",
      "4    2020-01-08   6730    VPB\n",
      "..          ...    ...    ...\n",
      "247  2020-12-25  10890    VPB\n",
      "248  2020-12-28  10820    VPB\n",
      "249  2020-12-29  10620    VPB\n",
      "250  2020-12-30  10650    VPB\n",
      "251  2020-12-31  10890    VPB\n",
      "\n",
      "[252 rows x 3 columns]\n",
      "           time  close ticker\n",
      "0    2020-01-02  59070    VCB\n",
      "1    2020-01-03  58480    VCB\n",
      "2    2020-01-06  56920    VCB\n",
      "3    2020-01-07  57110    VCB\n",
      "4    2020-01-08  56590    VCB\n",
      "..          ...    ...    ...\n",
      "247  2020-12-25  64010    VCB\n",
      "248  2020-12-28  64269    VCB\n",
      "249  2020-12-29  65060    VCB\n",
      "250  2020-12-30  64200    VCB\n",
      "251  2020-12-31  64200    VCB\n",
      "\n",
      "[252 rows x 3 columns]\n"
     ]
    }
   ],
   "execution_count": 15
  }
 ],
 "metadata": {
  "kernelspec": {
   "display_name": "Python 3",
   "language": "python",
   "name": "python3"
  },
  "language_info": {
   "codemirror_mode": {
    "name": "ipython",
    "version": 2
   },
   "file_extension": ".py",
   "mimetype": "text/x-python",
   "name": "python",
   "nbconvert_exporter": "python",
   "pygments_lexer": "ipython2",
   "version": "2.7.6"
  }
 },
 "nbformat": 4,
 "nbformat_minor": 5
}
